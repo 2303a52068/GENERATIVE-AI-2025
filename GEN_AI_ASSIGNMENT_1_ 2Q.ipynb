{
  "nbformat": 4,
  "nbformat_minor": 0,
  "metadata": {
    "colab": {
      "provenance": [],
      "authorship_tag": "ABX9TyPfkkr8JpmwMeUoTeXgZfpd",
      "include_colab_link": true
    },
    "kernelspec": {
      "name": "python3",
      "display_name": "Python 3"
    },
    "language_info": {
      "name": "python"
    }
  },
  "cells": [
    {
      "cell_type": "markdown",
      "metadata": {
        "id": "view-in-github",
        "colab_type": "text"
      },
      "source": [
        "<a href=\"https://colab.research.google.com/github/2303a52068/GENERATIVE-AI-2025/blob/main/GEN_AI_ASSIGNMENT_1_%202Q.ipynb\" target=\"_parent\"><img src=\"https://colab.research.google.com/assets/colab-badge.svg\" alt=\"Open In Colab\"/></a>"
      ]
    },
    {
      "cell_type": "code",
      "execution_count": 7,
      "metadata": {
        "colab": {
          "base_uri": "https://localhost:8080/"
        },
        "id": "CE4dbRfXPKqY",
        "outputId": "46a0747c-9aa2-4974-aedd-66fce5628e81"
      },
      "outputs": [
        {
          "output_type": "stream",
          "name": "stdout",
          "text": [
            "\n",
            "Classification Metrics:\n",
            "Accuracy: 0.3333333333333333\n",
            "F1 Score: 0.3257575757575758\n",
            "Confusion Matrix:\n",
            " [[2 1 2]\n",
            " [2 1 2]\n",
            " [2 1 2]]\n",
            "Recall Score: 0.3333333333333333\n",
            "Precision Score: 0.3333333333333333\n"
          ]
        }
      ],
      "source": [
        "import numpy as np\n",
        "from sklearn.metrics import mean_squared_error, mean_absolute_error, r2_score, accuracy_score, f1_score, confusion_matrix,recall_score,precision_score\n",
        "\n",
        "# Regression Metrics\n",
        "y_actual_classification = np.array([0,  1,  2,\n",
        "                                     0,  1,  2,\n",
        "                                     0,  1,  2,\n",
        "                                     0,  1,  2,\n",
        "                                     0,  1,  2 ])\n",
        "\n",
        "y_pred_classification = np.array([ 0,  1,  0,\n",
        "                                    0, 0,  0,\n",
        "                                    1, 2,  1,\n",
        "                                    2, 0,  2,\n",
        "                                    2, 2,  2])\n",
        "\n",
        "# Calculate evaluation metrics for classification\n",
        "accuracy = accuracy_score(y_actual_classification, y_pred_classification)\n",
        "f1 = f1_score(y_actual_classification, y_pred_classification, average='weighted')\n",
        "confusion = confusion_matrix(y_actual_classification, y_pred_classification)\n",
        "recall = recall_score(y_actual_classification, y_pred_classification, average='weighted')\n",
        "precision = precision_score(y_actual_classification, y_pred_classification,average='weighted')\n",
        "\n",
        "print(\"\\nClassification Metrics:\")\n",
        "print(\"Accuracy:\", accuracy)\n",
        "print(\"F1 Score:\", f1)\n",
        "print(\"Confusion Matrix:\\n\", confusion)\n",
        "print(\"Recall Score:\", recall)\n",
        "print(\"Precision Score:\", precision)"
      ]
    },
    {
      "cell_type": "code",
      "source": [],
      "metadata": {
        "id": "fBU94RcLQrFc"
      },
      "execution_count": null,
      "outputs": []
    }
  ]
}